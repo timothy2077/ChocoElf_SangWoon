{
  "nbformat": 4,
  "nbformat_minor": 0,
  "metadata": {
    "colab": {
      "provenance": [],
      "private_outputs": true,
      "include_colab_link": true
    },
    "kernelspec": {
      "name": "python3",
      "display_name": "Python 3"
    },
    "language_info": {
      "name": "python"
    }
  },
  "cells": [
    {
      "cell_type": "markdown",
      "metadata": {
        "id": "view-in-github",
        "colab_type": "text"
      },
      "source": [
        "<a href=\"https://colab.research.google.com/github/chocoelf/aiffel_quest/blob/main/AIFFEL_quest/Python_quest/Quest03/Quest03.ipynb\" target=\"_parent\"><img src=\"https://colab.research.google.com/assets/colab-badge.svg\" alt=\"Open In Colab\"/></a>"
      ]
    },
    {
      "cell_type": "markdown",
      "source": [
        "# [파이썬] 퀘스트: 클로저를 활용한 문제해결하기\n",
        "\n",
        "난이도: ★★★★☆  \n",
        "장르: nonlocal, 클로저, 데코레이터 활용  \n",
        "\n",
        "---\n",
        "\n",
        "\n"
      ],
      "metadata": {
        "id": "sPRcyZsPorCm"
      }
    },
    {
      "cell_type": "markdown",
      "source": [
        "## 문제 1. 최댓값과 최솟값 찾기\n",
        "\n"
      ],
      "metadata": {
        "id": "Dh2vcnApr4VI"
      }
    },
    {
      "cell_type": "markdown",
      "source": [
        "조건:  \n",
        "* 주어진 리스트의 최댓값과 최솟값을 반환하는 클로저 함수를 완성해 주세요.\n",
        "    * 주어진 숫자 리스트 numbers에 대해 find_min_max 함수를 호출하면 find_min과 find_max 함수를 얻을 수 있습니다.\n",
        "    * find_min() 함수를 호출하면 최솟값을, find_max()함수를 호출하면 최댓값을 반환합니다.\n",
        "    * 클로저를 사용하여 min_value와 max_value 변수를 외부에 노출하지 않고도 최솟값과 최대값을 찾을 수 있습니다.\n",
        "    * find_min_max 함수가 호출된 이후에도 find_min과 find_max 함수를 통해 min_value와 max_value 변수에 접근할 수 있습니다.\n",
        "* 주석으로 구현 내용이 써있는 부분을 코드로 채워주세요.\n",
        "---\n",
        "입력:\n",
        "```python\n",
        "numbers = [10, 5, 8, 12, 3, 7]\n",
        "find_min, find_max = find_min_max(numbers)\n",
        "\n",
        "print(\"최솟값:\", find_min())  \n",
        "print(\"최댓값:\", find_max())  \n",
        "```\n",
        "---\n",
        "출력:\n",
        "```\n",
        "3\n",
        "12\n",
        "```\n"
      ],
      "metadata": {
        "id": "d-vXJztpvFD-"
      }
    },
    {
      "cell_type": "code",
      "source": [
        "# 클로저의 조건\n",
        "# 조건 1 : 어떤 함수의 내부 함수일 것\n",
        "# 조건 2 : 그 내부 함수가 외부 함수의 변수를 참조할 것\n",
        "# 조건 3 : 외부 함수가 내부 함수를 리턴할 것\n",
        "\n",
        "def find_min_max(numbers):\n",
        "    # min_value와 max_value 변수를 초기화\n",
        "    # min_value는 양의 무한대(float('inf'))로 초기화하여 어떤 숫자보다도 큰 값으로 설정\n",
        "    min_value = float('inf')\n",
        "    # max_value는 음의 무한대(float('-inf'))로 초기화하여 어떤 숫자보다도 작은 값으로 설정\n",
        "    max_value = float('-inf')\n",
        "\n",
        "    # update_min_max 함수에서 최대값, 최소값 분별\n",
        "    def update_min_max(num):\n",
        "        # 외부함수의 변수인 min_value, max_value 참조 - 조건 2 : 그 내부 함수가 외부 함수의 변수를 참조할 것\n",
        "        nonlocal min_value\n",
        "        nonlocal max_value\n",
        "\n",
        "        # 만약 num 값이 min_value보다 작다면 min_value를 num 값으로 변경\n",
        "        if num < min_value:\n",
        "            min_value = num\n",
        "\n",
        "        # 만약 num 값이 max_value보다 크다면 max_value를 num 값으로 변경\n",
        "        if num > max_value:\n",
        "            max_value = num\n",
        "\n",
        "    # numbers 리스트의 모든 값을 순환하며 최댓값과 최솟값 업데이트\n",
        "    for num in numbers:\n",
        "        update_min_max(num)\n",
        "\n",
        "    # 최솟값을 반환하는 내부함수 - 조건 1: 내부함수\n",
        "    def get_min():\n",
        "        return min_value\n",
        "\n",
        "    # 최댓값을 반환하는 내부함수 - 조건 1: 내부함수\n",
        "    def get_max():\n",
        "        return max_value\n",
        "\n",
        "    # 외부함수는 내부함수(get_min()과 get_max())를 반환 - 조건 3 : 외부 함수가 내부 함수를 리턴할 것\n",
        "    return get_min, get_max"
      ],
      "metadata": {
        "id": "oF_uYyS2jjPj"
      },
      "execution_count": null,
      "outputs": []
    },
    {
      "cell_type": "code",
      "source": [
        "numbers = [10, 5, 8, 12, 3, 7]\n",
        "\n",
        "find_min, find_max = find_min_max(numbers)\n",
        "\n",
        "\n",
        "print(\"최솟값:\", find_min())  # 3\n",
        "print(\"최댓값:\", find_max())  # 12"
      ],
      "metadata": {
        "id": "fCd_fJBrobxi"
      },
      "execution_count": null,
      "outputs": []
    },
    {
      "cell_type": "markdown",
      "source": [
        "## 문제 2. 함수의 호출 횟수를 세는 데코레이터"
      ],
      "metadata": {
        "id": "d3XECsmXwES5"
      }
    },
    {
      "cell_type": "markdown",
      "source": [
        "지난 시간에 배운 데코레이터를 기억하시나요? 데코레이터도 내부함수를 반환하는 클로저를 활용한 문법입니다. 클로저를 활용하여 함수 호출 횟수를 출력하는 데코레이터를 만들어봅시다.\n",
        "\n",
        "조건:\n",
        "* 함수가 실행될 때 마다 함수 이름과 실행 횟수를 출력하는 데코레이터 `counter` 만들기  \n",
        "\n",
        "힌트:\n",
        "* 데코레이터의 내부 함수(클로저)는 실행횟수를 기억하기 위해 외부 함수의 변수를 참조 해야 합니다\n",
        "* 함수의 이름은 `함수이름.__name__`으로 접근할 수 있습니다.\n",
        "\n",
        "---\n",
        "입력:\n",
        "```python\n",
        "@counter\n",
        "def say_hello():\n",
        "    print(\"Hello Aiffel!\")\n",
        "\n",
        "for i in range(5):\n",
        "    say_hello()\n",
        "```\n",
        "---\n",
        "출력:\n",
        "```\n",
        "Hello Aiffel!\n",
        "say_hello 실행횟수: 1\n",
        "Hello Aiffel!\n",
        "say_hello 실행횟수: 2\n",
        "Hello Aiffel!\n",
        "say_hello 실행횟수: 3\n",
        "Hello Aiffel!\n",
        "say_hello 실행횟수: 4\n",
        "Hello Aiffel!\n",
        "say_hello 실행횟수: 5\n",
        "```"
      ],
      "metadata": {
        "id": "HTdH6DkVvJMF"
      }
    },
    {
      "cell_type": "code",
      "source": [
        "# 클로저의 조건\n",
        "# 조건 1 : 어떤 함수의 내부 함수일 것\n",
        "# 조건 2 : 그 내부 함수가 외부 함수의 변수를 참조할 것\n",
        "# 조건 3 : 외부 함수가 내부 함수를 리턴할 것\n",
        "\n",
        "# 데코레이터 함수\n",
        "def counter(func):                              # 데코레이터 함수 정의\n",
        "  count = 0                                     # 변수 선언\n",
        "  def decorator():                              # 조건 1 : 어떤 함수의 내부 함수일 것\n",
        "    nonlocal count                              # 조건 2 : 그 내부 함수가 외부 함수의 변수를 참조할 것\n",
        "    count += 1                                  # 함수가 호출 될 때마다 1을 더해준다.\n",
        "    print(f\"{func.__name__} 실행횟수: {count}\") # __name__으로 함수의 이름 가져오기\n",
        "    func()                                      # 꾸며줄 함수 실행\n",
        "  return decorator                              # 조건 3 : 외부 함수가 내부 함수를 리턴할 것\n",
        "\n",
        "@counter                                        # 데코레이터 적용\n",
        "def say_hello():                                # 꾸며줄 함수 정의\n",
        "    print(\"Hello Aiffel!\")\n",
        "\n",
        "for i in range(7):                              # 반복 호출\n",
        "    say_hello()"
      ],
      "metadata": {
        "id": "x6fP4S27DG01"
      },
      "execution_count": null,
      "outputs": []
    },
    {
      "cell_type": "markdown",
      "source": [
        "''' 회고 임상운:\n",
        "\n",
        "일단 처음에 get_min() 함수를 리턴해야 한다고 해서 이 함수가 자신리턴하게 끔 작성 했었는데 기홍님의 수정으로 외부 함수가 리턴해야하는 값이라는 걸 알게 되었습니다. 두번째 문제는 자동 완성 기능으로 완성된 코드를 조금 손봐서 완성 하게 되었는데 func의 위치를 바로잡으니 제대로 작동 하였습니다. 이렇게 퀘스트를 수행하게 되면서 단순히 코드의 작성만이 아니라 클로저의 조건도 확실히 머릿속에 입력하게 되었고 그러한 조건들도 코드를 이해하는데 중요한 역활을 한다는 것을 알게 되었습니다. 어려웠던 점은 클로저의 구성하는 요소들을 제자리에 적용 시키는 일이었고 아쉬웠던 점은 제가 너무 수동적으로 퀘스트에 임하지 않았나 하는 점입니다. 느낀점은 다음부터는 좀더 능동적으로 퀘스트에 참여하여야 겠다는 생각이 들었습니다. 이상입니다.'''\n",
        "\n",
        "''' 회고 김기홍:\n",
        "\n",
        "처음 클로저를 응용해서 사용하려고 할 때, 항상 생각이 들었던 것이 굳이 이렇게 사용해야할까? 하는 생각이 들었는데, 생각해보니 클래스를 만들면 모듈이 점점 커지고, 전역변수로 하자니 깔끔한 코드가 되지 못할 것 같다는 생각에 미쳤습니다. 클로저 개념을 잘 이해한다면 쉽게 변수와 함수를 연결시켜서 여러곳에서 사용할 수 있겠다는 생각과 장점이 더 많기에 사용한다는 말에 공감이 되었습니다.\n",
        "\n",
        "클로저 장점 중 '함수 호출 사이의 상태를 유지'할 수 있는데 이는 함수를 여러 번 호출할 때 일부 정보를 보존하려는 경우 유용하고, 데이터를 캡슐화해서 숨길 수 있음. 등의 장점을 찾아 보며 - 두번째 예제에서 정보를 보존하는데 의미가 있을 것 같고, 첫번째 예제에서 캡슐화가 잘 되어있다 것을 연결시키면서 확인할 수 있었고, 예제를 진행하면서 배웠던 이론을 주석을 남기면서 확인하는 시간이 이론과 실제를 연결시킬 수 있었습니다.\n",
        "\n",
        "또한 상운님의 질문을 통해, 이전에 배웠던 데코레이터도 클로저를 사용하는데 지역변수를 참조 하지 않고, 함수만 참조했었는데 클로저가 되기 위한 조건 2번에 외부함수의 지역변수를 참조한다는 항목을 통해 일급객체는 변수가 함수가 될 수 있다는 의미를 확인하면서 의미를 연결시킬 수 있었고,\n",
        "\n",
        "함수를 정의하고 쉽게 참조하고, 정의해서 사용할 수 있다는 장점을 클로저 사용의 대표적인 예시인 데코레이터라는 사실을 질문과 검색을 통해 피어 프로그래밍을 더 몰입력있는 시간으로 사용할 수 있었습니다.\n",
        "'''"
      ],
      "metadata": {
        "id": "0NTanJJuX6Jv"
      }
    }
  ]
}