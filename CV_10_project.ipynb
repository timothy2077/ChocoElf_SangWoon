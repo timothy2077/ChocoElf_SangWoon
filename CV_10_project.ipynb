{
 "cells": [
  {
   "cell_type": "code",
   "execution_count": 1,
   "id": "c55f82d4",
   "metadata": {},
   "outputs": [],
   "source": [
    "import tensorflow as tf\n",
    "from tensorflow.keras.preprocessing.image import ImageDataGenerator\n",
    "\n",
    "import os\n",
    "import numpy as np\n",
    "import matplotlib.pyplot as plt"
   ]
  },
  {
   "cell_type": "code",
   "execution_count": 2,
   "id": "ec9a6915",
   "metadata": {},
   "outputs": [],
   "source": [
    "_URL = 'https://storage.googleapis.com/mledu-datasets/cats_and_dogs_filtered.zip'\n",
    "\n",
    "path_to_zip = tf.keras.utils.get_file('cats_and_dogs.zip', origin=_URL, extract=True)\n",
    "\n",
    "path = os.path.join(os.path.dirname(path_to_zip), 'cats_and_dogs_filtered')"
   ]
  },
  {
   "cell_type": "code",
   "execution_count": 3,
   "id": "d30b7573",
   "metadata": {},
   "outputs": [
    {
     "name": "stdout",
     "output_type": "stream",
     "text": [
      "/aiffel/.keras/datasets/cats_and_dogs_filtered/train\n",
      "/aiffel/.keras/datasets/cats_and_dogs_filtered/validation\n"
     ]
    }
   ],
   "source": [
    "train_dir = os.path.join(path, 'train')\n",
    "validation_dir = os.path.join(path, 'validation')\n",
    "print(train_dir)\n",
    "print(validation_dir)"
   ]
  },
  {
   "cell_type": "code",
   "execution_count": 4,
   "id": "ecf0956c",
   "metadata": {},
   "outputs": [
    {
     "name": "stdout",
     "output_type": "stream",
     "text": [
      "/aiffel/.keras/datasets/cats_and_dogs_filtered/train/cats\n",
      "/aiffel/.keras/datasets/cats_and_dogs_filtered/train/dogs\n",
      "/aiffel/.keras/datasets/cats_and_dogs_filtered/validation/cats\n",
      "/aiffel/.keras/datasets/cats_and_dogs_filtered/validation/dogs\n"
     ]
    }
   ],
   "source": [
    "# directory with our training cat pictures\n",
    "train_cats_dir = os.path.join(train_dir, 'cats') \n",
    "print(train_cats_dir)\n",
    "\n",
    "# directory with our training dog pictures \n",
    "train_dogs_dir = os.path.join(train_dir, 'dogs')  \n",
    "print(train_dogs_dir)\n",
    "\n",
    "# directory with our validation cat pictures\n",
    "validation_cats_dir = os.path.join(validation_dir, 'cats')  \n",
    "print(validation_cats_dir)\n",
    "\n",
    "# directory with our validation dog pictures\n",
    "validation_dogs_dir = os.path.join(validation_dir, 'dogs')  \n",
    "print(validation_dogs_dir)"
   ]
  },
  {
   "cell_type": "code",
   "execution_count": 5,
   "id": "33faff05",
   "metadata": {},
   "outputs": [
    {
     "name": "stdout",
     "output_type": "stream",
     "text": [
      "total training cat images: 1000\n",
      "total training dog images: 1000\n",
      "--\n",
      "total validation cat images: 500\n",
      "total validation dog images: 500\n",
      "--\n",
      "Total training images: 2000\n",
      "Total validation images: 1000\n"
     ]
    }
   ],
   "source": [
    "num_cats_tr = len(os.listdir(train_cats_dir))\n",
    "print('total training cat images:', num_cats_tr)\n",
    "num_dogs_tr = len(os.listdir(train_dogs_dir))\n",
    "print('total training dog images:', num_dogs_tr)\n",
    "\n",
    "print(\"--\")\n",
    "\n",
    "num_cats_val = len(os.listdir(validation_cats_dir))\n",
    "print('total validation cat images:', num_cats_val)\n",
    "num_dogs_val = len(os.listdir(validation_dogs_dir))\n",
    "print('total validation dog images:', num_dogs_val)\n",
    "\n",
    "print(\"--\")\n",
    "\n",
    "total_train = num_cats_tr + num_dogs_tr\n",
    "print(\"Total training images:\", total_train)\n",
    "total_val = num_cats_val + num_dogs_val\n",
    "print(\"Total validation images:\", total_val)"
   ]
  },
  {
   "cell_type": "code",
   "execution_count": 16,
   "id": "9868b03e",
   "metadata": {},
   "outputs": [],
   "source": [
    "batch_size = 100\n",
    "epochs = 100\n",
    "IMG_HEIGHT = 256\n",
    "IMG_WIDTH = 256"
   ]
  },
  {
   "cell_type": "code",
   "execution_count": 7,
   "id": "e26941cb",
   "metadata": {},
   "outputs": [],
   "source": [
    "image_gen_train = ImageDataGenerator(rescale=1./255,\n",
    "                                     rotation_range=0.3,\n",
    "                                     width_shift_range=0.1,\n",
    "                                     height_shift_range=0.1,\n",
    "                                     zoom_range=0.2,\n",
    "                                     horizontal_flip=True, \n",
    "                                     vertical_flip=False)"
   ]
  },
  {
   "cell_type": "code",
   "execution_count": 8,
   "id": "2a4e0951",
   "metadata": {},
   "outputs": [
    {
     "name": "stdout",
     "output_type": "stream",
     "text": [
      "Found 2000 images belonging to 2 classes.\n"
     ]
    }
   ],
   "source": [
    "train_data_gen = image_gen_train.flow_from_directory(batch_size=batch_size,\n",
    "                                                     directory=train_dir,\n",
    "                                                     shuffle=True,\n",
    "                                                     target_size=(IMG_HEIGHT, IMG_WIDTH),\n",
    "                                                     class_mode='binary')"
   ]
  },
  {
   "cell_type": "code",
   "execution_count": 9,
   "id": "8f441c51",
   "metadata": {},
   "outputs": [],
   "source": [
    "image_gen_val = ImageDataGenerator(rescale=1./255)"
   ]
  },
  {
   "cell_type": "code",
   "execution_count": 10,
   "id": "6c6d57c9",
   "metadata": {},
   "outputs": [
    {
     "name": "stdout",
     "output_type": "stream",
     "text": [
      "Found 1000 images belonging to 2 classes.\n"
     ]
    }
   ],
   "source": [
    "val_data_gen = image_gen_val.flow_from_directory(batch_size=batch_size,\n",
    "                                                 directory=validation_dir,\n",
    "                                                 target_size=(IMG_HEIGHT, IMG_WIDTH),\n",
    "                                                 class_mode='binary')"
   ]
  },
  {
   "cell_type": "code",
   "execution_count": 11,
   "id": "83db4b1e",
   "metadata": {},
   "outputs": [
    {
     "data": {
      "text/plain": [
       "<bound method Model.summary of <keras.engine.functional.Functional object at 0x7f4bc4069430>>"
      ]
     },
     "execution_count": 11,
     "metadata": {},
     "output_type": "execute_result"
    }
   ],
   "source": [
    "input_layer = tf.keras.layers.Input(shape = (256, 256, 3))\n",
    "x = tf.keras.layers.Conv2D(32, (3, 3), strides = 1, activation = 'relu', padding = 'same')(input_layer)\n",
    "x = tf.keras.layers.Conv2D(32, (3, 3), strides = 1, activation = 'relu', padding = 'same')(x)\n",
    "x = tf.keras.layers.BatchNormalization()(x)\n",
    "x = tf.keras.layers.MaxPool2D(2, 2)(x)\n",
    "\n",
    "x = tf.keras.layers.Conv2D(64, (3, 3), strides = 1, activation = 'relu', padding = 'same')(x)\n",
    "x = tf.keras.layers.Conv2D(64, (3, 3), strides = 1, activation = 'relu', padding = 'same')(x)\n",
    "x = tf.keras.layers.BatchNormalization()(x)\n",
    "x = tf.keras.layers.MaxPool2D(2, 2)(x)\n",
    "\n",
    "x = tf.keras.layers.Conv2D(128, (3, 3), strides = 1, activation = 'relu', padding = 'same')(x)\n",
    "x = tf.keras.layers.Conv2D(128, (3, 3), strides = 1, activation = 'relu', padding = 'same')(x)\n",
    "x = tf.keras.layers.BatchNormalization()(x)\n",
    "x = tf.keras.layers.MaxPool2D(2, 2)(x)\n",
    "\n",
    "x = tf.keras.layers.Flatten()(x)\n",
    "x = tf.keras.layers.Dense(1024, activation = 'relu')(x)\n",
    "x = tf.keras.layers.Dense(512, activation = 'relu')(x)\n",
    "out_layer = tf.keras.layers.Dense(1, activation = 'sigmoid')(x)\n",
    "\n",
    "model = tf.keras.Model(inputs = [input_layer], outputs = [out_layer])\n",
    "model.summary"
   ]
  },
  {
   "cell_type": "code",
   "execution_count": 12,
   "id": "dcd7f922",
   "metadata": {},
   "outputs": [],
   "source": [
    "loss_function=tf.keras.losses.binary_crossentropy\n",
    "optimize=tf.keras.optimizers.Adam(learning_rate=0.01)\n",
    "metric=tf.keras.metrics.binary_accuracy\n",
    "model.compile(loss=loss_function,\n",
    "              optimizer=optimize,\n",
    "              metrics=[metric])"
   ]
  },
  {
   "cell_type": "code",
   "execution_count": 17,
   "id": "7080e834",
   "metadata": {},
   "outputs": [
    {
     "name": "stdout",
     "output_type": "stream",
     "text": [
      "Epoch 1/100\n",
      "20/20 [==============================] - 9s 466ms/step - loss: 0.6952 - binary_accuracy: 0.4938 - val_loss: 0.6966 - val_binary_accuracy: 0.5000\n",
      "Epoch 2/100\n",
      "20/20 [==============================] - 9s 451ms/step - loss: 0.6945 - binary_accuracy: 0.4906 - val_loss: 0.6933 - val_binary_accuracy: 0.4990\n",
      "Epoch 3/100\n",
      "20/20 [==============================] - 9s 450ms/step - loss: 0.6928 - binary_accuracy: 0.4969 - val_loss: 0.6937 - val_binary_accuracy: 0.5010\n",
      "Epoch 4/100\n",
      "20/20 [==============================] - 9s 435ms/step - loss: 0.6932 - binary_accuracy: 0.5063 - val_loss: 0.6927 - val_binary_accuracy: 0.5010\n",
      "Epoch 5/100\n",
      "20/20 [==============================] - 9s 448ms/step - loss: 0.6936 - binary_accuracy: 0.4500 - val_loss: 0.6930 - val_binary_accuracy: 0.5000\n",
      "Epoch 6/100\n",
      "20/20 [==============================] - 8s 429ms/step - loss: 0.6932 - binary_accuracy: 0.5000 - val_loss: 0.6935 - val_binary_accuracy: 0.5020\n",
      "Epoch 7/100\n",
      "20/20 [==============================] - 8s 425ms/step - loss: 0.7370 - binary_accuracy: 0.4688 - val_loss: 0.9800 - val_binary_accuracy: 0.5100\n",
      "Epoch 8/100\n",
      "20/20 [==============================] - 9s 433ms/step - loss: 0.6920 - binary_accuracy: 0.4812 - val_loss: 0.6931 - val_binary_accuracy: 0.5030\n",
      "Epoch 9/100\n",
      "20/20 [==============================] - 9s 435ms/step - loss: 0.6947 - binary_accuracy: 0.5219 - val_loss: 0.6929 - val_binary_accuracy: 0.5040\n",
      "Epoch 10/100\n",
      "20/20 [==============================] - 8s 424ms/step - loss: 0.6954 - binary_accuracy: 0.4375 - val_loss: 0.6928 - val_binary_accuracy: 0.5000\n",
      "Epoch 11/100\n",
      "20/20 [==============================] - 8s 424ms/step - loss: 0.6923 - binary_accuracy: 0.5406 - val_loss: 0.6936 - val_binary_accuracy: 0.5000\n",
      "Epoch 12/100\n",
      "20/20 [==============================] - 8s 414ms/step - loss: 0.6907 - binary_accuracy: 0.5250 - val_loss: 0.6941 - val_binary_accuracy: 0.5000\n",
      "Epoch 13/100\n",
      "20/20 [==============================] - 8s 412ms/step - loss: 0.6948 - binary_accuracy: 0.4906 - val_loss: 0.6939 - val_binary_accuracy: 0.5000\n",
      "Epoch 14/100\n",
      "20/20 [==============================] - 8s 418ms/step - loss: 0.6966 - binary_accuracy: 0.4844 - val_loss: 0.6925 - val_binary_accuracy: 0.5000\n",
      "Epoch 15/100\n",
      "20/20 [==============================] - 8s 413ms/step - loss: 0.6961 - binary_accuracy: 0.4969 - val_loss: 0.6924 - val_binary_accuracy: 0.5050\n",
      "Epoch 16/100\n",
      "20/20 [==============================] - 8s 415ms/step - loss: 0.6930 - binary_accuracy: 0.5156 - val_loss: 0.6927 - val_binary_accuracy: 0.5030\n",
      "Epoch 17/100\n",
      "20/20 [==============================] - 8s 408ms/step - loss: 0.6931 - binary_accuracy: 0.5156 - val_loss: 0.6928 - val_binary_accuracy: 0.5020\n",
      "Epoch 18/100\n",
      "20/20 [==============================] - 8s 407ms/step - loss: 0.6934 - binary_accuracy: 0.5156 - val_loss: 0.6929 - val_binary_accuracy: 0.5020\n",
      "Epoch 19/100\n",
      "20/20 [==============================] - 8s 408ms/step - loss: 0.6945 - binary_accuracy: 0.4719 - val_loss: 0.6926 - val_binary_accuracy: 0.5030\n",
      "Epoch 20/100\n",
      "20/20 [==============================] - 8s 403ms/step - loss: 0.6944 - binary_accuracy: 0.5000 - val_loss: 0.6926 - val_binary_accuracy: 0.5030\n",
      "Epoch 21/100\n",
      "20/20 [==============================] - 8s 407ms/step - loss: 0.6932 - binary_accuracy: 0.4906 - val_loss: 0.6927 - val_binary_accuracy: 0.5000\n",
      "Epoch 22/100\n",
      "20/20 [==============================] - 8s 410ms/step - loss: 0.6931 - binary_accuracy: 0.5188 - val_loss: 0.6928 - val_binary_accuracy: 0.5000\n",
      "Epoch 23/100\n",
      "20/20 [==============================] - 8s 411ms/step - loss: 0.6956 - binary_accuracy: 0.4938 - val_loss: 0.6928 - val_binary_accuracy: 0.5000\n",
      "Epoch 24/100\n",
      "20/20 [==============================] - 8s 410ms/step - loss: 0.6931 - binary_accuracy: 0.5125 - val_loss: 0.6929 - val_binary_accuracy: 0.5000\n",
      "Epoch 25/100\n",
      "20/20 [==============================] - 8s 402ms/step - loss: 0.6941 - binary_accuracy: 0.4469 - val_loss: 0.6929 - val_binary_accuracy: 0.5000\n",
      "Epoch 26/100\n",
      "20/20 [==============================] - 8s 400ms/step - loss: 0.6932 - binary_accuracy: 0.5219 - val_loss: 0.6931 - val_binary_accuracy: 0.5000\n",
      "Epoch 27/100\n",
      "20/20 [==============================] - 8s 408ms/step - loss: 0.6923 - binary_accuracy: 0.5312 - val_loss: 0.6931 - val_binary_accuracy: 0.5000\n",
      "Epoch 28/100\n",
      "20/20 [==============================] - 8s 403ms/step - loss: 0.6946 - binary_accuracy: 0.4719 - val_loss: 0.6929 - val_binary_accuracy: 0.5000\n",
      "Epoch 29/100\n",
      "20/20 [==============================] - 8s 395ms/step - loss: 0.6907 - binary_accuracy: 0.5312 - val_loss: 0.6929 - val_binary_accuracy: 0.5000\n",
      "Epoch 30/100\n",
      "20/20 [==============================] - 8s 406ms/step - loss: 0.6923 - binary_accuracy: 0.5188 - val_loss: 0.6932 - val_binary_accuracy: 0.5000\n",
      "Epoch 31/100\n",
      "20/20 [==============================] - 8s 405ms/step - loss: 0.6905 - binary_accuracy: 0.5094 - val_loss: 0.6949 - val_binary_accuracy: 0.5000\n",
      "Epoch 32/100\n",
      "20/20 [==============================] - 8s 412ms/step - loss: 0.6934 - binary_accuracy: 0.4906 - val_loss: 0.6986 - val_binary_accuracy: 0.5000\n",
      "Epoch 33/100\n",
      "20/20 [==============================] - 8s 403ms/step - loss: 0.6962 - binary_accuracy: 0.4281 - val_loss: 0.6964 - val_binary_accuracy: 0.4990\n",
      "Epoch 34/100\n",
      "20/20 [==============================] - 8s 407ms/step - loss: 0.6918 - binary_accuracy: 0.5125 - val_loss: 0.6929 - val_binary_accuracy: 0.5020\n",
      "Epoch 35/100\n",
      "20/20 [==============================] - 8s 402ms/step - loss: 0.6941 - binary_accuracy: 0.4969 - val_loss: 0.6927 - val_binary_accuracy: 0.5010\n",
      "Epoch 36/100\n",
      "20/20 [==============================] - 8s 408ms/step - loss: 0.6931 - binary_accuracy: 0.5219 - val_loss: 0.6931 - val_binary_accuracy: 0.5020\n",
      "Epoch 37/100\n",
      "20/20 [==============================] - 8s 425ms/step - loss: 0.6924 - binary_accuracy: 0.5250 - val_loss: 0.6934 - val_binary_accuracy: 0.5010\n",
      "Epoch 38/100\n",
      "20/20 [==============================] - 8s 416ms/step - loss: 0.6911 - binary_accuracy: 0.5344 - val_loss: 0.6932 - val_binary_accuracy: 0.5020\n",
      "Epoch 39/100\n",
      "20/20 [==============================] - 8s 402ms/step - loss: 0.6930 - binary_accuracy: 0.4844 - val_loss: 0.7484 - val_binary_accuracy: 0.5050\n",
      "Epoch 40/100\n",
      "20/20 [==============================] - 8s 408ms/step - loss: 0.7562 - binary_accuracy: 0.5063 - val_loss: 0.6928 - val_binary_accuracy: 0.5020\n",
      "Epoch 41/100\n",
      "20/20 [==============================] - 8s 401ms/step - loss: 0.6950 - binary_accuracy: 0.5031 - val_loss: 0.6932 - val_binary_accuracy: 0.5010\n",
      "Epoch 42/100\n",
      "20/20 [==============================] - 8s 405ms/step - loss: 0.6942 - binary_accuracy: 0.4719 - val_loss: 0.6932 - val_binary_accuracy: 0.5000\n",
      "Epoch 43/100\n",
      "20/20 [==============================] - 8s 402ms/step - loss: 0.6931 - binary_accuracy: 0.5344 - val_loss: 0.6932 - val_binary_accuracy: 0.5000\n",
      "Epoch 44/100\n",
      "20/20 [==============================] - 8s 407ms/step - loss: 0.6919 - binary_accuracy: 0.5312 - val_loss: 0.6937 - val_binary_accuracy: 0.5000\n",
      "Epoch 45/100\n",
      "20/20 [==============================] - 8s 405ms/step - loss: 0.6945 - binary_accuracy: 0.5031 - val_loss: 0.6934 - val_binary_accuracy: 0.5000\n",
      "Epoch 46/100\n",
      "20/20 [==============================] - 8s 409ms/step - loss: 0.6941 - binary_accuracy: 0.4781 - val_loss: 0.6933 - val_binary_accuracy: 0.5000\n",
      "Epoch 47/100\n",
      "20/20 [==============================] - 8s 406ms/step - loss: 0.6934 - binary_accuracy: 0.4844 - val_loss: 0.6933 - val_binary_accuracy: 0.4990\n",
      "Epoch 48/100\n",
      "20/20 [==============================] - 8s 402ms/step - loss: 0.6938 - binary_accuracy: 0.4844 - val_loss: 0.6933 - val_binary_accuracy: 0.4990\n",
      "Epoch 49/100\n",
      "20/20 [==============================] - 8s 404ms/step - loss: 0.6936 - binary_accuracy: 0.4844 - val_loss: 0.6933 - val_binary_accuracy: 0.5000\n",
      "Epoch 50/100\n",
      "20/20 [==============================] - 8s 404ms/step - loss: 0.6927 - binary_accuracy: 0.4688 - val_loss: 0.6930 - val_binary_accuracy: 0.4990\n",
      "Epoch 51/100\n",
      "20/20 [==============================] - 8s 406ms/step - loss: 0.6920 - binary_accuracy: 0.4531 - val_loss: 0.6929 - val_binary_accuracy: 0.4990\n",
      "Epoch 52/100\n",
      "20/20 [==============================] - 8s 409ms/step - loss: 0.6917 - binary_accuracy: 0.5031 - val_loss: 0.6928 - val_binary_accuracy: 0.4990\n"
     ]
    },
    {
     "name": "stdout",
     "output_type": "stream",
     "text": [
      "Epoch 53/100\n",
      "20/20 [==============================] - 8s 405ms/step - loss: 0.6932 - binary_accuracy: 0.5063 - val_loss: 0.6927 - val_binary_accuracy: 0.4990\n",
      "Epoch 54/100\n",
      "20/20 [==============================] - 8s 398ms/step - loss: 0.6933 - binary_accuracy: 0.4750 - val_loss: 0.6927 - val_binary_accuracy: 0.5020\n",
      "Epoch 55/100\n",
      "20/20 [==============================] - 8s 406ms/step - loss: 0.6913 - binary_accuracy: 0.4875 - val_loss: 0.6930 - val_binary_accuracy: 0.4990\n",
      "Epoch 56/100\n",
      "20/20 [==============================] - 8s 398ms/step - loss: 0.6942 - binary_accuracy: 0.4688 - val_loss: 0.6930 - val_binary_accuracy: 0.5020\n",
      "Epoch 57/100\n",
      "20/20 [==============================] - 8s 403ms/step - loss: 0.6937 - binary_accuracy: 0.4969 - val_loss: 0.6929 - val_binary_accuracy: 0.5020\n",
      "Epoch 58/100\n",
      "20/20 [==============================] - 8s 405ms/step - loss: 0.6938 - binary_accuracy: 0.4844 - val_loss: 0.6929 - val_binary_accuracy: 0.5020\n",
      "Epoch 59/100\n",
      "20/20 [==============================] - 8s 401ms/step - loss: 0.6930 - binary_accuracy: 0.4500 - val_loss: 0.6923 - val_binary_accuracy: 0.4980\n",
      "Epoch 60/100\n",
      "20/20 [==============================] - 8s 410ms/step - loss: 0.6971 - binary_accuracy: 0.5094 - val_loss: 0.6935 - val_binary_accuracy: 0.4990\n",
      "Epoch 61/100\n",
      "20/20 [==============================] - 8s 407ms/step - loss: 0.6937 - binary_accuracy: 0.4531 - val_loss: 0.6935 - val_binary_accuracy: 0.5000\n",
      "Epoch 62/100\n",
      "20/20 [==============================] - 8s 418ms/step - loss: 0.6927 - binary_accuracy: 0.5094 - val_loss: 0.6935 - val_binary_accuracy: 0.5000\n",
      "Epoch 63/100\n",
      "20/20 [==============================] - 9s 432ms/step - loss: 0.6908 - binary_accuracy: 0.5437 - val_loss: 0.6966 - val_binary_accuracy: 0.4970\n",
      "Epoch 64/100\n",
      "20/20 [==============================] - 9s 430ms/step - loss: 0.6925 - binary_accuracy: 0.5469 - val_loss: 0.6945 - val_binary_accuracy: 0.4990\n",
      "Epoch 65/100\n",
      "20/20 [==============================] - 9s 432ms/step - loss: 0.6957 - binary_accuracy: 0.4844 - val_loss: 0.6940 - val_binary_accuracy: 0.5000\n",
      "Epoch 66/100\n",
      "20/20 [==============================] - 8s 422ms/step - loss: 0.6951 - binary_accuracy: 0.4719 - val_loss: 0.6935 - val_binary_accuracy: 0.5000\n",
      "Epoch 67/100\n",
      "20/20 [==============================] - 8s 428ms/step - loss: 0.6939 - binary_accuracy: 0.4844 - val_loss: 0.6935 - val_binary_accuracy: 0.4990\n",
      "Epoch 68/100\n",
      "20/20 [==============================] - 8s 426ms/step - loss: 0.6936 - binary_accuracy: 0.4812 - val_loss: 0.6935 - val_binary_accuracy: 0.4990\n",
      "Epoch 69/100\n",
      "20/20 [==============================] - 9s 434ms/step - loss: 0.6930 - binary_accuracy: 0.5031 - val_loss: 0.6935 - val_binary_accuracy: 0.5000\n",
      "Epoch 70/100\n",
      "20/20 [==============================] - 9s 441ms/step - loss: 0.6933 - binary_accuracy: 0.4719 - val_loss: 0.6943 - val_binary_accuracy: 0.4980\n",
      "Epoch 71/100\n",
      "20/20 [==============================] - 9s 441ms/step - loss: 0.6953 - binary_accuracy: 0.4313 - val_loss: 0.6935 - val_binary_accuracy: 0.4990\n",
      "Epoch 72/100\n",
      "20/20 [==============================] - 8s 402ms/step - loss: 0.6936 - binary_accuracy: 0.4844 - val_loss: 0.6935 - val_binary_accuracy: 0.5000\n",
      "Epoch 73/100\n",
      "20/20 [==============================] - 8s 428ms/step - loss: 0.6939 - binary_accuracy: 0.4500 - val_loss: 0.6934 - val_binary_accuracy: 0.4990\n",
      "Epoch 74/100\n",
      "20/20 [==============================] - 8s 422ms/step - loss: 0.6931 - binary_accuracy: 0.5188 - val_loss: 0.6934 - val_binary_accuracy: 0.4990\n",
      "Epoch 75/100\n",
      "20/20 [==============================] - 10s 519ms/step - loss: 0.6931 - binary_accuracy: 0.4750 - val_loss: 0.6938 - val_binary_accuracy: 0.5000\n",
      "Epoch 76/100\n",
      "20/20 [==============================] - 9s 433ms/step - loss: 0.6920 - binary_accuracy: 0.5375 - val_loss: 0.6943 - val_binary_accuracy: 0.5000\n",
      "Epoch 77/100\n",
      "20/20 [==============================] - 8s 422ms/step - loss: 0.6957 - binary_accuracy: 0.4531 - val_loss: 0.6941 - val_binary_accuracy: 0.5000\n",
      "Epoch 78/100\n",
      "20/20 [==============================] - 8s 406ms/step - loss: 0.6933 - binary_accuracy: 0.4938 - val_loss: 0.6940 - val_binary_accuracy: 0.4990\n",
      "Epoch 79/100\n",
      "20/20 [==============================] - 10s 501ms/step - loss: 0.6919 - binary_accuracy: 0.5219 - val_loss: 0.6960 - val_binary_accuracy: 0.4980\n",
      "Epoch 80/100\n",
      "20/20 [==============================] - 8s 403ms/step - loss: 0.6936 - binary_accuracy: 0.4969 - val_loss: 0.6984 - val_binary_accuracy: 0.4970\n",
      "Epoch 81/100\n",
      "20/20 [==============================] - 8s 401ms/step - loss: 0.6935 - binary_accuracy: 0.4969 - val_loss: 0.7153 - val_binary_accuracy: 0.5020\n",
      "Epoch 82/100\n",
      "20/20 [==============================] - 8s 407ms/step - loss: 0.6942 - binary_accuracy: 0.4812 - val_loss: 0.6959 - val_binary_accuracy: 0.5000\n",
      "Epoch 83/100\n",
      "20/20 [==============================] - 8s 409ms/step - loss: 0.6940 - binary_accuracy: 0.4531 - val_loss: 0.6942 - val_binary_accuracy: 0.4980\n",
      "Epoch 84/100\n",
      "20/20 [==============================] - 8s 400ms/step - loss: 0.6924 - binary_accuracy: 0.5250 - val_loss: 0.6943 - val_binary_accuracy: 0.5000\n",
      "Epoch 85/100\n",
      "20/20 [==============================] - 8s 406ms/step - loss: 0.6949 - binary_accuracy: 0.4719 - val_loss: 0.6943 - val_binary_accuracy: 0.5000\n",
      "Epoch 86/100\n",
      "20/20 [==============================] - 8s 406ms/step - loss: 0.6933 - binary_accuracy: 0.5031 - val_loss: 0.6942 - val_binary_accuracy: 0.5000\n",
      "Epoch 87/100\n",
      "20/20 [==============================] - 8s 401ms/step - loss: 0.6924 - binary_accuracy: 0.5375 - val_loss: 0.6945 - val_binary_accuracy: 0.5000\n",
      "Epoch 88/100\n",
      "20/20 [==============================] - 8s 408ms/step - loss: 0.6918 - binary_accuracy: 0.4938 - val_loss: 0.6947 - val_binary_accuracy: 0.5000\n",
      "Epoch 89/100\n",
      "20/20 [==============================] - 8s 409ms/step - loss: 0.6992 - binary_accuracy: 0.5250 - val_loss: 0.6964 - val_binary_accuracy: 0.5000\n",
      "Epoch 90/100\n",
      "20/20 [==============================] - 8s 422ms/step - loss: 0.6927 - binary_accuracy: 0.5219 - val_loss: 0.6952 - val_binary_accuracy: 0.5000\n",
      "Epoch 91/100\n",
      "20/20 [==============================] - 8s 424ms/step - loss: 0.6928 - binary_accuracy: 0.5156 - val_loss: 0.6953 - val_binary_accuracy: 0.5000\n",
      "Epoch 92/100\n",
      "20/20 [==============================] - 8s 412ms/step - loss: 0.6875 - binary_accuracy: 0.5312 - val_loss: 0.6984 - val_binary_accuracy: 0.5000\n",
      "Epoch 93/100\n",
      "20/20 [==============================] - 9s 433ms/step - loss: 0.7033 - binary_accuracy: 0.4906 - val_loss: 0.6941 - val_binary_accuracy: 0.5000\n",
      "Epoch 94/100\n",
      "20/20 [==============================] - 11s 538ms/step - loss: 0.6945 - binary_accuracy: 0.4688 - val_loss: 0.6940 - val_binary_accuracy: 0.5000\n",
      "Epoch 95/100\n",
      "20/20 [==============================] - 27s 1s/step - loss: 0.6933 - binary_accuracy: 0.5281 - val_loss: 0.6944 - val_binary_accuracy: 0.4990\n",
      "Epoch 96/100\n",
      "20/20 [==============================] - 15s 694ms/step - loss: 0.6938 - binary_accuracy: 0.5000 - val_loss: 0.6942 - val_binary_accuracy: 0.4990\n",
      "Epoch 97/100\n",
      "20/20 [==============================] - 11s 544ms/step - loss: 0.6945 - binary_accuracy: 0.4719 - val_loss: 0.6940 - val_binary_accuracy: 0.4990\n",
      "Epoch 98/100\n",
      "20/20 [==============================] - 11s 529ms/step - loss: 0.6932 - binary_accuracy: 0.4750 - val_loss: 0.6941 - val_binary_accuracy: 0.5000\n",
      "Epoch 99/100\n",
      "20/20 [==============================] - 11s 527ms/step - loss: 0.6940 - binary_accuracy: 0.4688 - val_loss: 0.6940 - val_binary_accuracy: 0.5000\n",
      "Epoch 100/100\n",
      "20/20 [==============================] - 10s 517ms/step - loss: 0.6927 - binary_accuracy: 0.5094 - val_loss: 0.6943 - val_binary_accuracy: 0.4990\n"
     ]
    }
   ],
   "source": [
    "# 모델 학습\n",
    "history = model.fit(\n",
    "      train_data_gen,\n",
    "      steps_per_epoch=(len(os.listdir(train_cats_dir)) + len(os.listdir(train_dogs_dir)))/batch_size,\n",
    "      epochs=epochs,\n",
    "      validation_data=val_data_gen,\n",
    "      validation_freq=1)"
   ]
  },
  {
   "cell_type": "code",
   "execution_count": 18,
   "id": "19dcfe40",
   "metadata": {},
   "outputs": [
    {
     "data": {
      "image/png": "[encoded data removed]",
      "text/plain": [
       "<Figure size 432x288 with 1 Axes>"
      ]
     },
     "metadata": {
      "needs_background": "light"
     },
     "output_type": "display_data"
    },
    {
     "data": {
      "image/png": "[encoded data removed]",
      "text/plain": [
       "<Figure size 432x288 with 1 Axes>"
      ]
     },
     "metadata": {
      "needs_background": "light"
     },
     "output_type": "display_data"
    }
   ],
   "source": [
    "acc = history.history['binary_accuracy']\n",
    "val_acc = history.history['val_binary_accuracy']\n",
    "loss = history.history['loss']\n",
    "val_loss = history.history['val_loss']\n",
    "\n",
    "epochs_range = range(len(acc))\n",
    "\n",
    "plt.plot(epochs_range, acc, 'bo', label='Training acc')\n",
    "plt.plot(epochs_range, val_acc, 'b', label='Validation acc')\n",
    "plt.title('Training and validation accuracy')\n",
    "plt.legend()\n",
    "\n",
    "plt.figure()\n",
    "\n",
    "plt.plot(epochs_range, loss, 'bo', label='Training loss')\n",
    "plt.plot(epochs_range, val_loss, 'b', label='Validation loss')\n",
    "plt.title('Training and validation loss')\n",
    "plt.legend()\n",
    "\n",
    "plt.show()"
   ]
  },
  {
   "cell_type": "code",
   "execution_count": null,
   "id": "53d92da5",
   "metadata": {},
   "outputs": [],
   "source": []
  }
 ],
 "metadata": {
  "kernelspec": {
   "display_name": "Python 3 (ipykernel)",
   "language": "python",
   "name": "python3"
  },
  "language_info": {
   "codemirror_mode": {
    "name": "ipython",
    "version": 3
   },
   "file_extension": ".py",
   "mimetype": "text/x-python",
   "name": "python",
   "nbconvert_exporter": "python",
   "pygments_lexer": "ipython3",
   "version": "3.9.7"
  }
 },
 "nbformat": 4,
 "nbformat_minor": 5
}
