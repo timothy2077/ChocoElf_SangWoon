{
 "cells": [
  {
   "cell_type": "code",
   "execution_count": null,
   "id": "ec105c1f",
   "metadata": {},
   "outputs": [],
   "source": [
    "class Character:\n",
    "\n",
    "    def __init__(self, name, level, health, attack, defense, speed):\n",
    "\n",
    "        self.name = name\n",
    "        self.speed = speed\n",
    "        self.level = level\n",
    "        self.health = health\n",
    "        self.attack = attack\n",
    "        self.defense = defense\n",
    "\n",
    "    def __str__(self):\n",
    "\n",
    "        return f\"이름: {self.name}, 레벨: {self.level}, 체력: {self.health}, 공격력: {self.attack}, 방어력: {self.defense}\"\n",
    "\n",
    "    def is_alive(self):\n",
    "        if self.health > 0:\n",
    "            return True\n",
    "        else:\n",
    "            return False\n",
    "\n",
    "    def take_damage(self, damage):\n",
    "        self.damage = damage\n",
    "        if self.is_alive():\n",
    "            if (self.damage - self.defense) > 0:\n",
    "                self.health -= self.damage - self.defense\n",
    "            else:\n",
    "                self.damage = 0\n",
    "\n",
    "    def attack_target(self, target):\n",
    "        self.attack_real = r.randint(self.attack // 2, self.attack)\n",
    "        target.take_damage(self.attack_real)\n",
    "        return self.attack_real\n",
    "\n",
    "\n",
    "\"\"\"\n",
    "super().__init__(name, level=1, health=100, attack=25, defense=5)\n",
    "        self.experience = 0\n",
    "\"\"\""
   ]
  }
 ],
 "metadata": {
  "kernelspec": {
   "display_name": "Python 3 (ipykernel)",
   "language": "python",
   "name": "python3"
  },
  "language_info": {
   "codemirror_mode": {
    "name": "ipython",
    "version": 3
   },
   "file_extension": ".py",
   "mimetype": "text/x-python",
   "name": "python",
   "nbconvert_exporter": "python",
   "pygments_lexer": "ipython3",
   "version": "3.9.7"
  }
 },
 "nbformat": 4,
 "nbformat_minor": 5
}
